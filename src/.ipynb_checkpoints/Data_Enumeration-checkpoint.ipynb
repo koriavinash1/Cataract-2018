{
 "cells": [
  {
   "cell_type": "code",
   "execution_count": 1,
   "metadata": {},
   "outputs": [],
   "source": [
    "import pandas as pd \n",
    "import numpy as np\n",
    "import os "
   ]
  },
  {
   "cell_type": "code",
   "execution_count": 2,
   "metadata": {},
   "outputs": [],
   "source": [
    "train_list=['train01','train02','train03','train04','train05','train06']\n",
    "valid_list=['train07','train08','train08']"
   ]
  },
  {
   "cell_type": "code",
   "execution_count": 3,
   "metadata": {},
   "outputs": [],
   "source": [
    "path ='../ground_truth/micro_training_MICCAI_challenge/'\n",
    "hist1 = np.zeros((21))\n",
    "for f in train_list:\n",
    "    csv= np.floor(pd.read_csv(path+f+'.csv').as_matrix())\n",
    "    hist1 += np.sum(csv[:,2:],0)\n",
    "    \n",
    "    "
   ]
  },
  {
   "cell_type": "code",
   "execution_count": null,
   "metadata": {},
   "outputs": [],
   "source": []
  },
  {
   "cell_type": "code",
   "execution_count": null,
   "metadata": {},
   "outputs": [],
   "source": []
  },
  {
   "cell_type": "code",
   "execution_count": null,
   "metadata": {},
   "outputs": [],
   "source": []
  },
  {
   "cell_type": "code",
   "execution_count": 4,
   "metadata": {},
   "outputs": [],
   "source": [
    "path ='../ground_truth/micro_training_MICCAI_challenge/'\n",
    "hist2 = np.zeros((21))\n",
    "for f in valid_list:\n",
    "    csv= np.floor(pd.read_csv(path+f+'.csv').as_matrix())\n",
    "    hist2 += np.sum(csv[:,2:],0)\n",
    "    "
   ]
  },
  {
   "cell_type": "code",
   "execution_count": null,
   "metadata": {},
   "outputs": [],
   "source": []
  },
  {
   "cell_type": "code",
   "execution_count": 9,
   "metadata": {},
   "outputs": [
    {
     "data": {
      "image/png": "[encoded data removed]",
      "text/plain": [
       "<matplotlib.figure.Figure at 0x7ff8c84bad68>"
      ]
     },
     "metadata": {},
     "output_type": "display_data"
    }
   ],
   "source": [
    "import matplotlib.pyplot as plt\n",
    "plt.stem(hist1,'r')\n",
    "plt.stem(hist2,'g')\n",
    "plt.show()"
   ]
  },
  {
   "cell_type": "code",
   "execution_count": 11,
   "metadata": {},
   "outputs": [],
   "source": [
    "p= np.zeros((2,21))\n",
    "p[0]= hist1\n",
    "p[1]= hist2\n"
   ]
  },
  {
   "cell_type": "code",
   "execution_count": 13,
   "metadata": {},
   "outputs": [
    {
     "data": {
      "text/plain": [
       "array([[    0.,     0.],\n",
       "       [    0.,   488.],\n",
       "       [ 1605.,   997.],\n",
       "       [ 2860.,  2014.],\n",
       "       [ 1237.,  1271.],\n",
       "       [    0.,     0.],\n",
       "       [ 4354.,  2918.],\n",
       "       [  404.,   389.],\n",
       "       [  197.,  2250.],\n",
       "       [  261.,     0.],\n",
       "       [    0.,     0.],\n",
       "       [19020., 10491.],\n",
       "       [14565., 11558.],\n",
       "       [    0.,     0.],\n",
       "       [ 1637.,  1125.],\n",
       "       [  570.,   327.],\n",
       "       [  543.,   585.],\n",
       "       [17788., 10583.],\n",
       "       [    0.,     0.],\n",
       "       [    0.,     0.],\n",
       "       [    0.,     0.]])"
      ]
     },
     "execution_count": 13,
     "metadata": {},
     "output_type": "execute_result"
    }
   ],
   "source": [
    "p.T\n"
   ]
  },
  {
   "cell_type": "code",
   "execution_count": null,
   "metadata": {},
   "outputs": [],
   "source": []
  }
 ],
 "metadata": {
  "kernelspec": {
   "display_name": "Python 3",
   "language": "python",
   "name": "python3"
  },
  "language_info": {
   "codemirror_mode": {
    "name": "ipython",
    "version": 3
   },
   "file_extension": ".py",
   "mimetype": "text/x-python",
   "name": "python",
   "nbconvert_exporter": "python",
   "pygments_lexer": "ipython3",
   "version": "3.6.4"
  }
 },
 "nbformat": 4,
 "nbformat_minor": 2
}
